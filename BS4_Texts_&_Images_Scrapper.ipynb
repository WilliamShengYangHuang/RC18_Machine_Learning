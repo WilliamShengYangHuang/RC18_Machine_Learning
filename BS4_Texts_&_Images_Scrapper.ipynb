{
  "nbformat": 4,
  "nbformat_minor": 0,
  "metadata": {
    "colab": {
      "provenance": [],
      "authorship_tag": "ABX9TyN7l+biB5Li61917ZCraRNy",
      "include_colab_link": true
    },
    "kernelspec": {
      "name": "python3",
      "display_name": "Python 3"
    },
    "language_info": {
      "name": "python"
    }
  },
  "cells": [
    {
      "cell_type": "markdown",
      "metadata": {
        "id": "view-in-github",
        "colab_type": "text"
      },
      "source": [
        "<a href=\"https://colab.research.google.com/github/WilliamShengYangHuang/RC18_Machine_Learning/blob/main/BS4_Texts_%26_Images_Scrapper.ipynb\" target=\"_parent\"><img src=\"https://colab.research.google.com/assets/colab-badge.svg\" alt=\"Open In Colab\"/></a>"
      ]
    },
    {
      "cell_type": "code",
      "source": [
        "import os\n",
        "import datetime\n",
        "import requests\n",
        "from bs4 import BeautifulSoup\n",
        "import csv\n",
        "import re\n",
        "from PIL import Image\n",
        "from io import BytesIO\n",
        "import imghdr\n",
        "\n",
        "from google.colab import drive\n",
        "drive.mount('/content/drive/')"
      ],
      "metadata": {
        "colab": {
          "base_uri": "https://localhost:8080/"
        },
        "id": "gGtbBJuPT7lO",
        "outputId": "592e6d47-eb45-4371-ca1c-e3f5e9155433"
      },
      "execution_count": 6,
      "outputs": [
        {
          "output_type": "stream",
          "name": "stdout",
          "text": [
            "Drive already mounted at /content/drive/; to attempt to forcibly remount, call drive.mount(\"/content/drive/\", force_remount=True).\n"
          ]
        }
      ]
    },
    {
      "cell_type": "code",
      "source": [
        "url = \"https://londondesignfestival.com/\" #@param{type:'string'}\n",
        "response = requests.get(url)\n",
        "soup = BeautifulSoup(response.text, 'html.parser')"
      ],
      "metadata": {
        "id": "0BDzmeOTVQoW"
      },
      "execution_count": 2,
      "outputs": []
    },
    {
      "cell_type": "code",
      "source": [
        "# Specify your desired directory here\n",
        "dir_path = '/content/drive/My Drive/scrapped_images'\n",
        "\n",
        "# Create directory if it doesn't exist\n",
        "try:\n",
        "    os.makedirs(dir_path, exist_ok=True)\n",
        "except Exception as e:\n",
        "    print(f\"Error creating directory: {e}\")\n",
        "    dir_path = os.getcwd()  # Use current working directory as fallback"
      ],
      "metadata": {
        "id": "-AsknHV_6t4-"
      },
      "execution_count": 3,
      "outputs": []
    },
    {
      "cell_type": "code",
      "execution_count": 4,
      "metadata": {
        "colab": {
          "base_uri": "https://localhost:8080/"
        },
        "id": "d4NkfDTfT6IP",
        "outputId": "06fab22a-0269-46c0-e72f-43d800bcf97d"
      },
      "outputs": [
        {
          "output_type": "stream",
          "name": "stdout",
          "text": [
            "Downloading https://londondesignfestival.com//assets/LDF_Logo_New_Red-c975221ede26f2bda87973ad1bbfb2b368e663245ce670b8c06c8a2d8e2acd8d.png\n",
            "Downloading https://londondesignfestival.com//assets/LDF_Logo_New_White-9f420408543f159a8436a51d073345fc460cc8ad976ddb31470440ecd0383681.png\n",
            "Downloading https://londondesignfestival.com//assets/LDF_Logo_New_Red-c975221ede26f2bda87973ad1bbfb2b368e663245ce670b8c06c8a2d8e2acd8d.png\n",
            "Downloading https://londondesignfestival.com//assets/LDF_Logo_New_White-9f420408543f159a8436a51d073345fc460cc8ad976ddb31470440ecd0383681.png\n",
            "Downloading https://a.storyblok.com/f/158031/1080x1920/5d0d0e37b8/ldf23_ldf_red.png\n",
            "Downloading https://a.storyblok.com/f/158031/1080x1920/5d0d0e37b8/ldf23_ldf_red.png\n",
            "Downloading https://a.storyblok.com/f/158031/1920x1280/314c80cde6/ldf23-halo-at-st-stephen-walbrook-studio-waldemeyer-supported-by-bloomberg-philanthropies-credit-ed-reeve-06.jpg/m/1500x0/filters:format(webp)\n",
            "Downloading https://a.storyblok.com/f/158031/1920x1280/a331225329/poor-collective_tobi-sobowalejpg.jpg/m/1500x0/filters:format(webp)\n",
            "Downloading https://a.storyblok.com/f/158031/2840x1904/da6df16176/mandala-lab.png/m/1500x0/filters:format(webp)\n",
            "Downloading https://a.storyblok.com/f/158031/1920x1280/a73e799c69/ldf23-aura-at-st-paul-s-cathedral-pablo-valbuena-supported-by-bloomberg-philanthropies-credit-ed-reeve-28.jpg/m/1920x0/filters:format(webp)\n",
            "Downloading https://a.storyblok.com/f/158031/2048x1536/90ddd4843a/2004_m-odundo-british-museumcollection.jpg/m/1500x0/filters:format(webp)\n",
            "Downloading https://a.storyblok.com/f/158031/6773x4666/d915730bee/_spp7041.jpg/m/1500x0/filters:format(webp)\n",
            "Downloading https://a.storyblok.com/f/158031/3038x1692/2acde37d41/simone-brewster-profile.png/m/1500x0/filters:format(webp)\n",
            "Downloading https://a.storyblok.com/f/158031/1332x889/90f7ca969f/1-pooja-agrawal_photo-by-benoit-grogan-avignon_1.jpg/m/1500x0/filters:format(webp)\n",
            "Downloading https://a.storyblok.com/f/158031/1920x1080/d2c0e694dd/ldf23-king-s-road-design-trail-main-image-1920x1080.jpg/m/1500x0/filters:format(webp)\n",
            "Downloading https://a.storyblok.com/f/158031/7789x5195/8a330bd0be/unstruck-melody_nep_wswf_v-a.jpeg/m/1500x0/filters:format(webp)\n",
            "Downloading https://a.storyblok.com/f/158031/1920x1280/c0ed05a961/ldf-medal-photo.jpg/m/1920x0/filters:format(webp)\n",
            "Downloading https://ldf.fra1.cdn.digitaloceanspaces.com/activityimage/6010/image/cropped-sm-eb521f693f8cc3418760101da6297775.webp\n",
            "Downloading https://ldf.fra1.cdn.digitaloceanspaces.com/activityimage/6014/image/cropped-sm-b3a94a6fb2abca323a9ad4d35228da29.webp\n",
            "Downloading https://ldf.fra1.cdn.digitaloceanspaces.com/8202c35783893827c575d6d7e336517e.webp\n",
            "Downloading https://ldf.fra1.cdn.digitaloceanspaces.com/510bd320bdece0fe8f970905212a985a.webp\n",
            "Downloading https://ldf.fra1.cdn.digitaloceanspaces.com/5614285d1eb858bc7f8816899ed71bf8.webp\n",
            "Downloading https://ldf.fra1.cdn.digitaloceanspaces.com/d6a89d48b23b086aa83c3a1b842b3484.webp\n",
            "Downloading https://a.storyblok.com/f/158031/3536x1810/75570a5c9e/circular-design-series.png/m/1500x0/filters:format(webp)\n",
            "Downloading https://a.storyblok.com/f/158031/3648x2002/28364890f4/cricular-design-series-fashion.png/m/1500x0/filters:format(webp)\n",
            "Downloading https://a.storyblok.com/f/158031/960x540/6fb2b545cd/future-of-packaging-header_ld23-ncy-sap.png/m/1500x0/filters:format(webp)\n",
            "Downloading https://a.storyblok.com/f/158031/1130x750/0ff246a560/screen-shot-2023-12-08-at-10-10-51.png/m/1500x0/filters:format(webp)\n",
            "Downloading https://a.storyblok.com/f/158031/x/911dc5ce77/mayor_black.svg/m/0x64/filters:format(webp)\n",
            "Downloading https://a.storyblok.com/f/158031/300x105/538a1d5d86/bloomberg_philanthropies_black.svg/m/0x64/filters:format(webp)\n",
            "Downloading https://a.storyblok.com/f/158031/x/8e983229b9/v-a_black.svg/m/0x64/filters:format(webp)\n",
            "Downloading https://a.storyblok.com/f/158031/x/756e93dc1e/f-m_black.svg/m/0x64/filters:format(webp)\n",
            "Downloading https://a.storyblok.com/f/158031/x/07f9838a55/pentagram_black.svg/m/0x64/filters:format(webp)\n",
            "Downloading https://a.storyblok.com/f/158031/203x72/8b834897fd/bbgc.svg/m/0x64/filters:format(webp)\n",
            "Downloading https://a.storyblok.com/f/158031/x/911dc5ce77/mayor_black.svg/m/0x64/filters:format(webp)\n",
            "Downloading https://a.storyblok.com/f/158031/300x105/538a1d5d86/bloomberg_philanthropies_black.svg/m/0x64/filters:format(webp)\n",
            "Downloading https://a.storyblok.com/f/158031/x/8e983229b9/v-a_black.svg/m/0x64/filters:format(webp)\n",
            "Downloading https://a.storyblok.com/f/158031/x/756e93dc1e/f-m_black.svg/m/0x64/filters:format(webp)\n",
            "Downloading https://a.storyblok.com/f/158031/x/07f9838a55/pentagram_black.svg/m/0x64/filters:format(webp)\n",
            "Downloading https://a.storyblok.com/f/158031/203x72/8b834897fd/bbgc.svg/m/0x64/filters:format(webp)\n",
            "Downloading https://www.facebook.com/tr?id=1854452694758421&ev=PageView&noscript=1\n"
          ]
        }
      ],
      "source": [
        "# Find all text within paragraph tags and write to CSV\n",
        "with open('output.csv', 'w', newline='') as file:\n",
        "    writer = csv.writer(file)\n",
        "    for paragraph in soup.find_all('p'):\n",
        "        writer.writerow([paragraph.text])\n",
        "\n",
        "# Find all image tags and download the images\n",
        "for img in soup.find_all('img'):\n",
        "    img_url = img.get('src')\n",
        "    if img_url is not None:\n",
        "        if 'http' not in img_url:\n",
        "            img_url = url + img_url\n",
        "        print(f\"Downloading {img_url}\")\n",
        "        try:\n",
        "            img_data = requests.get(img_url).content\n",
        "            with open(os.path.join(dir_path, os.path.basename(img_url)), 'wb') as handler:\n",
        "                handler.write(img_data)\n",
        "        except Exception as e:\n",
        "            print(f\"Error downloading image: {e}\")"
      ]
    },
    {
      "cell_type": "code",
      "source": [
        "\"\"\"\n",
        "# Find all image tags and download the images\n",
        "for img in soup.find_all('img'):\n",
        "    img_url = img.get('src')\n",
        "    if img_url is not None:\n",
        "        if 'http' not in img_url:\n",
        "            img_url = url + img_url\n",
        "        print(f\"Downloading {img_url}\")\n",
        "        try:\n",
        "            response = requests.get(img_url)\n",
        "            # Check if the response content is an image\n",
        "            if imghdr.what(None, response.content):\n",
        "                img = Image.open(BytesIO(response.content))\n",
        "\n",
        "                # Sanitize filename by removing special characters\n",
        "                filename = re.sub(r'[^\\w\\-_\\. ]', '_', os.path.basename(img_url))\n",
        "                filename = os.path.splitext(filename)[0] + '.png'  # Change extension to .png\n",
        "\n",
        "                img.save(os.path.join(dir_path, filename))\n",
        "            else:\n",
        "                print(f\"URL does not point to an image: {img_url}\")\n",
        "        except Exception as e:\n",
        "            print(f\"Error downloading image: {e}\")\n",
        "\n",
        "\"\"\"\n"
      ],
      "metadata": {
        "colab": {
          "base_uri": "https://localhost:8080/",
          "height": 157
        },
        "id": "-wOS3R7UQoqe",
        "outputId": "24685586-45ae-4690-b1ef-f5199ccae46c"
      },
      "execution_count": 5,
      "outputs": [
        {
          "output_type": "execute_result",
          "data": {
            "text/plain": [
              "'\\n# Find all image tags and download the images\\nfor img in soup.find_all(\\'img\\'):\\n    img_url = img.get(\\'src\\')\\n    if img_url is not None:\\n        if \\'http\\' not in img_url:\\n            img_url = url + img_url\\n        print(f\"Downloading {img_url}\")\\n        try:\\n            response = requests.get(img_url)\\n            # Check if the response content is an image\\n            if imghdr.what(None, response.content):\\n                img = Image.open(BytesIO(response.content))\\n                \\n                # Sanitize filename by removing special characters\\n                filename = re.sub(r\\'[^\\\\w\\\\-_\\\\. ]\\', \\'_\\', os.path.basename(img_url))\\n                filename = os.path.splitext(filename)[0] + \\'.png\\'  # Change extension to .png\\n                \\n                img.save(os.path.join(dir_path, filename))\\n            else:\\n                print(f\"URL does not point to an image: {img_url}\")\\n        except Exception as e:\\n            print(f\"Error downloading image: {e}\")\\n\\n'"
            ],
            "application/vnd.google.colaboratory.intrinsic+json": {
              "type": "string"
            }
          },
          "metadata": {},
          "execution_count": 5
        }
      ]
    },
    {
      "cell_type": "code",
      "source": [
        "# Find all text within paragraph tags and write to CSV\n",
        "with open('output.csv', 'w', newline='') as file:\n",
        "    writer = csv.writer(file)\n",
        "    for paragraph in soup.find_all('p'):\n",
        "        # Add timestamp for each paragraph\n",
        "        timestamp = datetime.datetime.now()\n",
        "        writer.writerow([paragraph.text, timestamp])\n",
        "\n",
        "# Find all image tags and download the images\n",
        "for img in soup.find_all('img'):\n",
        "    img_url = img.get('src')\n",
        "    if img_url is not None:\n",
        "        if 'http' not in img_url:\n",
        "            img_url = url + img_url\n",
        "        print(f\"Downloading {img_url}\")\n",
        "        try:\n",
        "            img_data = requests.get(img_url).content\n",
        "            with open(os.path.join(dir_path, os.path.basename(img_url)), 'wb') as handler:\n",
        "                handler.write(img_data)\n",
        "            # Save filename, geoinfo (if available), and timestamp to CSV\n",
        "            with open('image_info.csv', 'a', newline='') as file:\n",
        "                writer = csv.writer(file)\n",
        "                # Add timestamp for each image\n",
        "                timestamp = datetime.datetime.now()\n",
        "                writer.writerow([os.path.basename(img_url), 'Geoinfo not available', timestamp])\n",
        "        except Exception as e:\n",
        "            print(f\"Error downloading image: {e}\")\n"
      ],
      "metadata": {
        "colab": {
          "base_uri": "https://localhost:8080/"
        },
        "id": "Iy2tZ7-zg14e",
        "outputId": "4ad3f283-ef40-4588-9125-5bebf9d37287"
      },
      "execution_count": 7,
      "outputs": [
        {
          "output_type": "stream",
          "name": "stdout",
          "text": [
            "Downloading https://londondesignfestival.com//assets/LDF_Logo_New_Red-c975221ede26f2bda87973ad1bbfb2b368e663245ce670b8c06c8a2d8e2acd8d.png\n",
            "Downloading https://londondesignfestival.com//assets/LDF_Logo_New_White-9f420408543f159a8436a51d073345fc460cc8ad976ddb31470440ecd0383681.png\n",
            "Downloading https://londondesignfestival.com//assets/LDF_Logo_New_Red-c975221ede26f2bda87973ad1bbfb2b368e663245ce670b8c06c8a2d8e2acd8d.png\n",
            "Downloading https://londondesignfestival.com//assets/LDF_Logo_New_White-9f420408543f159a8436a51d073345fc460cc8ad976ddb31470440ecd0383681.png\n",
            "Downloading https://a.storyblok.com/f/158031/1080x1920/5d0d0e37b8/ldf23_ldf_red.png\n",
            "Downloading https://a.storyblok.com/f/158031/1080x1920/5d0d0e37b8/ldf23_ldf_red.png\n",
            "Downloading https://a.storyblok.com/f/158031/1920x1280/314c80cde6/ldf23-halo-at-st-stephen-walbrook-studio-waldemeyer-supported-by-bloomberg-philanthropies-credit-ed-reeve-06.jpg/m/1500x0/filters:format(webp)\n",
            "Downloading https://a.storyblok.com/f/158031/1920x1280/a331225329/poor-collective_tobi-sobowalejpg.jpg/m/1500x0/filters:format(webp)\n",
            "Downloading https://a.storyblok.com/f/158031/2840x1904/da6df16176/mandala-lab.png/m/1500x0/filters:format(webp)\n",
            "Downloading https://a.storyblok.com/f/158031/1920x1280/a73e799c69/ldf23-aura-at-st-paul-s-cathedral-pablo-valbuena-supported-by-bloomberg-philanthropies-credit-ed-reeve-28.jpg/m/1920x0/filters:format(webp)\n",
            "Downloading https://a.storyblok.com/f/158031/2048x1536/90ddd4843a/2004_m-odundo-british-museumcollection.jpg/m/1500x0/filters:format(webp)\n",
            "Downloading https://a.storyblok.com/f/158031/6773x4666/d915730bee/_spp7041.jpg/m/1500x0/filters:format(webp)\n",
            "Downloading https://a.storyblok.com/f/158031/3038x1692/2acde37d41/simone-brewster-profile.png/m/1500x0/filters:format(webp)\n",
            "Downloading https://a.storyblok.com/f/158031/1332x889/90f7ca969f/1-pooja-agrawal_photo-by-benoit-grogan-avignon_1.jpg/m/1500x0/filters:format(webp)\n",
            "Downloading https://a.storyblok.com/f/158031/1920x1080/d2c0e694dd/ldf23-king-s-road-design-trail-main-image-1920x1080.jpg/m/1500x0/filters:format(webp)\n",
            "Downloading https://a.storyblok.com/f/158031/7789x5195/8a330bd0be/unstruck-melody_nep_wswf_v-a.jpeg/m/1500x0/filters:format(webp)\n",
            "Downloading https://a.storyblok.com/f/158031/1920x1280/c0ed05a961/ldf-medal-photo.jpg/m/1920x0/filters:format(webp)\n",
            "Downloading https://ldf.fra1.cdn.digitaloceanspaces.com/activityimage/6010/image/cropped-sm-eb521f693f8cc3418760101da6297775.webp\n",
            "Downloading https://ldf.fra1.cdn.digitaloceanspaces.com/activityimage/6014/image/cropped-sm-b3a94a6fb2abca323a9ad4d35228da29.webp\n",
            "Downloading https://ldf.fra1.cdn.digitaloceanspaces.com/8202c35783893827c575d6d7e336517e.webp\n",
            "Downloading https://ldf.fra1.cdn.digitaloceanspaces.com/510bd320bdece0fe8f970905212a985a.webp\n",
            "Downloading https://ldf.fra1.cdn.digitaloceanspaces.com/5614285d1eb858bc7f8816899ed71bf8.webp\n",
            "Downloading https://ldf.fra1.cdn.digitaloceanspaces.com/d6a89d48b23b086aa83c3a1b842b3484.webp\n",
            "Downloading https://a.storyblok.com/f/158031/3536x1810/75570a5c9e/circular-design-series.png/m/1500x0/filters:format(webp)\n",
            "Downloading https://a.storyblok.com/f/158031/3648x2002/28364890f4/cricular-design-series-fashion.png/m/1500x0/filters:format(webp)\n",
            "Downloading https://a.storyblok.com/f/158031/960x540/6fb2b545cd/future-of-packaging-header_ld23-ncy-sap.png/m/1500x0/filters:format(webp)\n",
            "Downloading https://a.storyblok.com/f/158031/1130x750/0ff246a560/screen-shot-2023-12-08-at-10-10-51.png/m/1500x0/filters:format(webp)\n",
            "Downloading https://a.storyblok.com/f/158031/x/911dc5ce77/mayor_black.svg/m/0x64/filters:format(webp)\n",
            "Downloading https://a.storyblok.com/f/158031/300x105/538a1d5d86/bloomberg_philanthropies_black.svg/m/0x64/filters:format(webp)\n",
            "Downloading https://a.storyblok.com/f/158031/x/8e983229b9/v-a_black.svg/m/0x64/filters:format(webp)\n",
            "Downloading https://a.storyblok.com/f/158031/x/756e93dc1e/f-m_black.svg/m/0x64/filters:format(webp)\n",
            "Downloading https://a.storyblok.com/f/158031/x/07f9838a55/pentagram_black.svg/m/0x64/filters:format(webp)\n",
            "Downloading https://a.storyblok.com/f/158031/203x72/8b834897fd/bbgc.svg/m/0x64/filters:format(webp)\n",
            "Downloading https://a.storyblok.com/f/158031/x/911dc5ce77/mayor_black.svg/m/0x64/filters:format(webp)\n",
            "Downloading https://a.storyblok.com/f/158031/300x105/538a1d5d86/bloomberg_philanthropies_black.svg/m/0x64/filters:format(webp)\n",
            "Downloading https://a.storyblok.com/f/158031/x/8e983229b9/v-a_black.svg/m/0x64/filters:format(webp)\n",
            "Downloading https://a.storyblok.com/f/158031/x/756e93dc1e/f-m_black.svg/m/0x64/filters:format(webp)\n",
            "Downloading https://a.storyblok.com/f/158031/x/07f9838a55/pentagram_black.svg/m/0x64/filters:format(webp)\n",
            "Downloading https://a.storyblok.com/f/158031/203x72/8b834897fd/bbgc.svg/m/0x64/filters:format(webp)\n",
            "Downloading https://www.facebook.com/tr?id=1854452694758421&ev=PageView&noscript=1\n"
          ]
        }
      ]
    }
  ]
}