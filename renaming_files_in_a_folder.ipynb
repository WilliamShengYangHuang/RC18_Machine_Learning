{
  "nbformat": 4,
  "nbformat_minor": 0,
  "metadata": {
    "colab": {
      "provenance": [],
      "machine_shape": "hm",
      "include_colab_link": true
    },
    "kernelspec": {
      "name": "python3",
      "display_name": "Python 3"
    },
    "language_info": {
      "name": "python"
    },
    "accelerator": "GPU"
  },
  "cells": [
    {
      "cell_type": "markdown",
      "metadata": {
        "id": "view-in-github",
        "colab_type": "text"
      },
      "source": [
        "<a href=\"https://colab.research.google.com/github/WilliamShengYangHuang/RC18_Machine_Learning/blob/main/renaming_files_in_a_folder.ipynb\" target=\"_parent\"><img src=\"https://colab.research.google.com/assets/colab-badge.svg\" alt=\"Open In Colab\"/></a>"
      ]
    },
    {
      "cell_type": "code",
      "source": [
        "import os\n",
        "os.getcwd()\n",
        "from google.colab import drive"
      ],
      "metadata": {
        "id": "YN9lS1tArisi"
      },
      "execution_count": null,
      "outputs": []
    },
    {
      "cell_type": "code",
      "source": [
        "drive.mount(\"/content/drive\")"
      ],
      "metadata": {
        "colab": {
          "base_uri": "https://localhost:8080/"
        },
        "id": "PIpt984n4xXB",
        "outputId": "f563cc96-5686-478d-f7f0-241e48a15843"
      },
      "execution_count": null,
      "outputs": [
        {
          "output_type": "stream",
          "name": "stdout",
          "text": [
            "Drive already mounted at /content/drive; to attempt to forcibly remount, call drive.mount(\"/content/drive\", force_remount=True).\n"
          ]
        }
      ]
    },
    {
      "cell_type": "markdown",
      "source": [
        "/content/drive/My Drive/phd_thesis_data/deep_city/paired_datasets/w-s/train/"
      ],
      "metadata": {
        "id": "rgriOIt8h_X-"
      }
    },
    {
      "cell_type": "code",
      "source": [
        "PATH = \"/content/drive/\" #@param{type:'string'}\n",
        "FORMAT = \".png\" #@param{type:'string'}\n",
        "os.listdir(PATH)"
      ],
      "metadata": {
        "id": "ws3hXvZ-SOTS"
      },
      "execution_count": null,
      "outputs": []
    },
    {
      "cell_type": "code",
      "source": [
        "for i, filename in enumerate(os.listdir(PATH)):    \n",
        "    os.rename(PATH + filename, PATH + str(i) + FORMAT)    \n",
        "    print(i)"
      ],
      "metadata": {
        "id": "njDxG-jxrDRF"
      },
      "execution_count": null,
      "outputs": []
    },
    {
      "cell_type": "code",
      "source": [
        "os.listdir(PATH)"
      ],
      "metadata": {
        "id": "yWXSp6o9-DPl"
      },
      "execution_count": null,
      "outputs": []
    }
  ]
}