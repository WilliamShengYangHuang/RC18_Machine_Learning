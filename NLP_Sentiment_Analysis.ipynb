{
  "cells": [
    {
      "cell_type": "markdown",
      "metadata": {
        "id": "view-in-github",
        "colab_type": "text"
      },
      "source": [
        "<a href=\"https://colab.research.google.com/github/WilliamShengYangHuang/RC18_Machine_Learning/blob/main/NLP_Sentiment_Analysis.ipynb\" target=\"_parent\"><img src=\"https://colab.research.google.com/assets/colab-badge.svg\" alt=\"Open In Colab\"/></a>"
      ]
    },
    {
      "cell_type": "markdown",
      "metadata": {
        "id": "8VI_aDJ4TnU9"
      },
      "source": [
        "#NLP Sentiment Analysis\n"
      ]
    },
    {
      "cell_type": "markdown",
      "metadata": {
        "id": "9SrjEB5kTnU_"
      },
      "source": [
        "## Method 1: Textblob\n",
        "\n",
        "https://textblob.readthedocs.io/en/dev/\n",
        "\n",
        "TextBlob is a Python (2 and 3) library for processing textual data. It provides a simple API for diving into common natural language processing (NLP) tasks such as part-of-speech tagging, noun phrase extraction, sentiment analysis, classification, translation, and more."
      ]
    },
    {
      "cell_type": "code",
      "source": [
        "!pip install textblob\n",
        "!pip install nltk"
      ],
      "metadata": {
        "id": "i0lVxBIKTz7F",
        "outputId": "17fdd6b2-05b3-4b26-e4e1-a2f52a1cefb7",
        "colab": {
          "base_uri": "https://localhost:8080/"
        }
      },
      "execution_count": 1,
      "outputs": [
        {
          "output_type": "stream",
          "name": "stdout",
          "text": [
            "Requirement already satisfied: textblob in /usr/local/lib/python3.10/dist-packages (0.17.1)\n",
            "Requirement already satisfied: nltk>=3.1 in /usr/local/lib/python3.10/dist-packages (from textblob) (3.8.1)\n",
            "Requirement already satisfied: click in /usr/local/lib/python3.10/dist-packages (from nltk>=3.1->textblob) (8.1.7)\n",
            "Requirement already satisfied: joblib in /usr/local/lib/python3.10/dist-packages (from nltk>=3.1->textblob) (1.3.2)\n",
            "Requirement already satisfied: regex>=2021.8.3 in /usr/local/lib/python3.10/dist-packages (from nltk>=3.1->textblob) (2023.12.25)\n",
            "Requirement already satisfied: tqdm in /usr/local/lib/python3.10/dist-packages (from nltk>=3.1->textblob) (4.66.2)\n",
            "Requirement already satisfied: nltk in /usr/local/lib/python3.10/dist-packages (3.8.1)\n",
            "Requirement already satisfied: click in /usr/local/lib/python3.10/dist-packages (from nltk) (8.1.7)\n",
            "Requirement already satisfied: joblib in /usr/local/lib/python3.10/dist-packages (from nltk) (1.3.2)\n",
            "Requirement already satisfied: regex>=2021.8.3 in /usr/local/lib/python3.10/dist-packages (from nltk) (2023.12.25)\n",
            "Requirement already satisfied: tqdm in /usr/local/lib/python3.10/dist-packages (from nltk) (4.66.2)\n"
          ]
        }
      ]
    },
    {
      "cell_type": "markdown",
      "source": [
        "### Use Pretrain Model Punkt Tokenizer"
      ],
      "metadata": {
        "id": "LnqJpeSOGtsX"
      }
    },
    {
      "cell_type": "markdown",
      "source": [
        "The command `nltk.download('punkt')` is used to download the Punkt Tokenizer in the Natural Language Toolkit (NLTK) library in Python.\n",
        "\n",
        "The Punkt Tokenizer is ***a pre-trained unsupervised machine learning model for tokenising text***. It’s particularly good at splitting text into sentences1. This tokeniser divides a text into a list of sentences by using an unsupervised algorithm to build a model for abbreviation words, collocations, and words that start sentences1. It must be trained on a large collection of plaintext in the target language before it can be used1.\n",
        "\n",
        "The NLTK data package includes a pre-trained Punkt tokeniser for English1. Once you have downloaded it using `nltk.download('punkt')`, you do not need to download it again"
      ],
      "metadata": {
        "id": "u2FJ1wnuGQl-"
      }
    },
    {
      "cell_type": "markdown",
      "source": [
        "In sentiment analysis, “***Polarity***” and “***Subjectivity***” are two important indicators.\n",
        "\n",
        "*   ***Polarity***: This is a floating-point number between -1 and 1, indicating the emotional tendency of the text. Negative values represent negative emotions, positive values represent positive emotions, and 0 represents neutral emotions. For example, the polarity of “I love this place” may be close to 1, while the polarity of “I hate this place” may be close to -1.\n",
        "\n",
        "*   ***Subjectivity***: This is a floating-point number between 0 and 1, indicating the subjectivity of the text. The higher the value, the stronger the subjectivity of the text, and vice versa, the more objective. For example, “The sky is blue” is an objective statement, its subjectivity may be close to 0. And “The sky is beautiful” is a subjective opinion, its subjectivity may be close to 1.\n",
        "\n",
        "These two indicators can help us understand the emotional tendency and subjectivity level of the text."
      ],
      "metadata": {
        "id": "SRMJYYYeRvVV"
      }
    },
    {
      "cell_type": "code",
      "execution_count": 2,
      "metadata": {
        "ExecuteTime": {
          "end_time": "2020-10-30T12:28:01.937210Z",
          "start_time": "2020-10-30T12:28:01.930918Z"
        },
        "id": "z-jFtuoYTnU_",
        "outputId": "c0b2e840-7621-429a-8da8-cbefe621b974",
        "colab": {
          "base_uri": "https://localhost:8080/"
        }
      },
      "outputs": [
        {
          "output_type": "stream",
          "name": "stderr",
          "text": [
            "[nltk_data] Downloading package punkt to /root/nltk_data...\n",
            "[nltk_data]   Unzipping tokenizers/punkt.zip.\n"
          ]
        },
        {
          "output_type": "stream",
          "name": "stdout",
          "text": [
            "\n",
            "Isaura, city of the thousand wells, is said to rise over a deep, subterranean lake. 0.0 0.4\n",
            "On all sides, wherever the inhabitants dig long vertical holes in the ground,\n",
            "they succeed in drawing up water, as far as the city extends, and no father. 0.025 0.7\n",
            "Its green border repeats the dark outline of the buried lake;\n",
            "an invisible landscape conditions the visible one;\n",
            "everything that moves in the sunlight is driven by the lapping wave enclosed\n",
            "beneath the rock’s calcareous sky. -0.175 0.35\n",
            "[…] The city’s gods, according to some people,\n",
            "live in the depths, in the black lake that feeds the underground streams. -0.015151515151515152 0.4666666666666667\n",
            "According to others, the gods live in the buckets that rise,\n",
            "suspended from a cable, as they appear over the edge of the wells,\n",
            "in the revolving pulleys, in the windlasses of the norias, in the pump handles,\n",
            "in the blades of the windmills that draw the water up from the drillings,\n",
            "in the trestles that support the twisting probes,\n",
            "in the reservoirs perched on stilts over the roofs,\n",
            "in the slender arches of the aqueducts,\n",
            "in all the columns of water, the vertical pipes,\n",
            "the plungers, the drains,\n",
            "all the way up to the weathercocks that surmount the airy scaffoldings of Isaura,\n",
            "a city that moves entirely upward. 0.06818181818181818 0.5625\n"
          ]
        }
      ],
      "source": [
        "from textblob import TextBlob\n",
        "import nltk\n",
        "nltk.download('punkt')\n",
        "\n",
        "# 'Isaura' in 'Invisible Cities' by Italo Carlvino\n",
        "text = '''\n",
        "Isaura, city of the thousand wells, is said to rise over a deep, subterranean lake.\n",
        "On all sides, wherever the inhabitants dig long vertical holes in the ground,\n",
        "they succeed in drawing up water, as far as the city extends, and no father.\n",
        "Its green border repeats the dark outline of the buried lake;\n",
        "an invisible landscape conditions the visible one;\n",
        "everything that moves in the sunlight is driven by the lapping wave enclosed\n",
        "beneath the rock’s calcareous sky. […] The city’s gods, according to some people,\n",
        "live in the depths, in the black lake that feeds the underground streams.\n",
        "According to others, the gods live in the buckets that rise,\n",
        "suspended from a cable, as they appear over the edge of the wells,\n",
        "in the revolving pulleys, in the windlasses of the norias, in the pump handles,\n",
        "in the blades of the windmills that draw the water up from the drillings,\n",
        "in the trestles that support the twisting probes,\n",
        "in the reservoirs perched on stilts over the roofs,\n",
        "in the slender arches of the aqueducts,\n",
        "in all the columns of water, the vertical pipes,\n",
        "the plungers, the drains,\n",
        "all the way up to the weathercocks that surmount the airy scaffoldings of Isaura,\n",
        "a city that moves entirely upward.\n",
        "'''\n",
        "\n",
        "blob = TextBlob(text)\n",
        "\n",
        "for sentence in blob.sentences:\n",
        "    print(sentence, sentence.sentiment.polarity, sentence.sentiment.subjectivity)"
      ]
    },
    {
      "cell_type": "code",
      "source": [
        "import pandas as pd\n",
        "\n",
        "nltk.download('punkt')\n",
        "\n",
        "# 'Isaura' in 'Invisible Cities' by Italo Carlvino\n",
        "text = '''\n",
        "Isaura, city of the thousand wells, is said to rise over a deep, subterranean lake.\n",
        "On all sides, wherever the inhabitants dig long vertical holes in the ground,\n",
        "they succeed in drawing up water, as far as the city extends, and no father.\n",
        "Its green border repeats the dark outline of the buried lake;\n",
        "an invisible landscape conditions the visible one;\n",
        "everything that moves in the sunlight is driven by the lapping wave enclosed\n",
        "beneath the rock’s calcareous sky. […] The city’s gods, according to some people,\n",
        "live in the depths, in the black lake that feeds the underground streams.\n",
        "According to others, the gods live in the buckets that rise,\n",
        "suspended from a cable, as they appear over the edge of the wells,\n",
        "in the revolving pulleys, in the windlasses of the norias, in the pump handles,\n",
        "in the blades of the windmills that draw the water up from the drillings,\n",
        "in the trestles that support the twisting probes,\n",
        "in the reservoirs perched on stilts over the roofs,\n",
        "in the slender arches of the aqueducts,\n",
        "in all the columns of water, the vertical pipes,\n",
        "the plungers, the drains,\n",
        "all the way up to the weathercocks that surmount the airy scaffoldings of Isaura,\n",
        "a city that moves entirely upward.\n",
        "'''\n",
        "\n",
        "blob = TextBlob(text)\n",
        "\n",
        "# Print header\n",
        "print(f\"{'Sentence':<80} | {'Polarity':<10} | {'Subjectivity':<13}\")\n",
        "\n",
        "# Print separator\n",
        "print(f\"{'-'*80} | {'-'*10} | {'-'*13}\")\n",
        "\n",
        "# Print sentences and their sentiment scores\n",
        "for sentence in blob.sentences:\n",
        "    print(f\"{str(sentence):<80} | {sentence.sentiment.polarity:<10.2f} | {sentence.sentiment.subjectivity:<13.2f}\")\n",
        "\n",
        "# Create an empty DataFrame\n",
        "df = pd.DataFrame(columns=['Sentence', 'Polarity', 'Subjectivity'])\n",
        "\n",
        "for sentence in blob.sentences:\n",
        "    # Add the sentence and its sentiment analysis output to the DataFrame\n",
        "    new_df = pd.DataFrame({'Sentence': [str(sentence)], 'Polarity': [sentence.sentiment.polarity], 'Subjectivity': [sentence.sentiment.subjectivity]})\n",
        "    df = pd.concat([df, new_df], ignore_index=True)\n",
        "\n",
        "# Preview DataFrame\n",
        "df"
      ],
      "metadata": {
        "colab": {
          "base_uri": "https://localhost:8080/",
          "height": 640
        },
        "id": "iKkVE74GOXHc",
        "outputId": "e4845b5b-4a81-41c5-a275-bc784cd89aa9"
      },
      "execution_count": 54,
      "outputs": [
        {
          "output_type": "stream",
          "name": "stdout",
          "text": [
            "Sentence                                                                         | Polarity   | Subjectivity \n",
            "-------------------------------------------------------------------------------- | ---------- | -------------\n",
            "\n",
            "Isaura, city of the thousand wells, is said to rise over a deep, subterranean lake. | 0.00       | 0.40         \n",
            "On all sides, wherever the inhabitants dig long vertical holes in the ground,\n",
            "they succeed in drawing up water, as far as the city extends, and no father. | 0.03       | 0.70         \n",
            "Its green border repeats the dark outline of the buried lake;\n",
            "an invisible landscape conditions the visible one;\n",
            "everything that moves in the sunlight is driven by the lapping wave enclosed\n",
            "beneath the rock’s calcareous sky. | -0.17      | 0.35         \n",
            "[…] The city’s gods, according to some people,\n",
            "live in the depths, in the black lake that feeds the underground streams. | -0.02      | 0.47         \n",
            "According to others, the gods live in the buckets that rise,\n",
            "suspended from a cable, as they appear over the edge of the wells,\n",
            "in the revolving pulleys, in the windlasses of the norias, in the pump handles,\n",
            "in the blades of the windmills that draw the water up from the drillings,\n",
            "in the trestles that support the twisting probes,\n",
            "in the reservoirs perched on stilts over the roofs,\n",
            "in the slender arches of the aqueducts,\n",
            "in all the columns of water, the vertical pipes,\n",
            "the plungers, the drains,\n",
            "all the way up to the weathercocks that surmount the airy scaffoldings of Isaura,\n",
            "a city that moves entirely upward. | 0.07       | 0.56         \n"
          ]
        },
        {
          "output_type": "stream",
          "name": "stderr",
          "text": [
            "[nltk_data] Downloading package punkt to /root/nltk_data...\n",
            "[nltk_data]   Package punkt is already up-to-date!\n"
          ]
        },
        {
          "output_type": "execute_result",
          "data": {
            "text/plain": [
              "                                            Sentence  Polarity  Subjectivity\n",
              "0  \\nIsaura, city of the thousand wells, is said ...  0.000000      0.400000\n",
              "1  On all sides, wherever the inhabitants dig lon...  0.025000      0.700000\n",
              "2  Its green border repeats the dark outline of t... -0.175000      0.350000\n",
              "3  […] The city’s gods, according to some people,... -0.015152      0.466667\n",
              "4  According to others, the gods live in the buck...  0.068182      0.562500"
            ],
            "text/html": [
              "\n",
              "  <div id=\"df-ed01b8cb-d76a-4fe2-93e9-0e0ce0503172\" class=\"colab-df-container\">\n",
              "    <div>\n",
              "<style scoped>\n",
              "    .dataframe tbody tr th:only-of-type {\n",
              "        vertical-align: middle;\n",
              "    }\n",
              "\n",
              "    .dataframe tbody tr th {\n",
              "        vertical-align: top;\n",
              "    }\n",
              "\n",
              "    .dataframe thead th {\n",
              "        text-align: right;\n",
              "    }\n",
              "</style>\n",
              "<table border=\"1\" class=\"dataframe\">\n",
              "  <thead>\n",
              "    <tr style=\"text-align: right;\">\n",
              "      <th></th>\n",
              "      <th>Sentence</th>\n",
              "      <th>Polarity</th>\n",
              "      <th>Subjectivity</th>\n",
              "    </tr>\n",
              "  </thead>\n",
              "  <tbody>\n",
              "    <tr>\n",
              "      <th>0</th>\n",
              "      <td>\\nIsaura, city of the thousand wells, is said ...</td>\n",
              "      <td>0.000000</td>\n",
              "      <td>0.400000</td>\n",
              "    </tr>\n",
              "    <tr>\n",
              "      <th>1</th>\n",
              "      <td>On all sides, wherever the inhabitants dig lon...</td>\n",
              "      <td>0.025000</td>\n",
              "      <td>0.700000</td>\n",
              "    </tr>\n",
              "    <tr>\n",
              "      <th>2</th>\n",
              "      <td>Its green border repeats the dark outline of t...</td>\n",
              "      <td>-0.175000</td>\n",
              "      <td>0.350000</td>\n",
              "    </tr>\n",
              "    <tr>\n",
              "      <th>3</th>\n",
              "      <td>[…] The city’s gods, according to some people,...</td>\n",
              "      <td>-0.015152</td>\n",
              "      <td>0.466667</td>\n",
              "    </tr>\n",
              "    <tr>\n",
              "      <th>4</th>\n",
              "      <td>According to others, the gods live in the buck...</td>\n",
              "      <td>0.068182</td>\n",
              "      <td>0.562500</td>\n",
              "    </tr>\n",
              "  </tbody>\n",
              "</table>\n",
              "</div>\n",
              "    <div class=\"colab-df-buttons\">\n",
              "\n",
              "  <div class=\"colab-df-container\">\n",
              "    <button class=\"colab-df-convert\" onclick=\"convertToInteractive('df-ed01b8cb-d76a-4fe2-93e9-0e0ce0503172')\"\n",
              "            title=\"Convert this dataframe to an interactive table.\"\n",
              "            style=\"display:none;\">\n",
              "\n",
              "  <svg xmlns=\"http://www.w3.org/2000/svg\" height=\"24px\" viewBox=\"0 -960 960 960\">\n",
              "    <path d=\"M120-120v-720h720v720H120Zm60-500h600v-160H180v160Zm220 220h160v-160H400v160Zm0 220h160v-160H400v160ZM180-400h160v-160H180v160Zm440 0h160v-160H620v160ZM180-180h160v-160H180v160Zm440 0h160v-160H620v160Z\"/>\n",
              "  </svg>\n",
              "    </button>\n",
              "\n",
              "  <style>\n",
              "    .colab-df-container {\n",
              "      display:flex;\n",
              "      gap: 12px;\n",
              "    }\n",
              "\n",
              "    .colab-df-convert {\n",
              "      background-color: #E8F0FE;\n",
              "      border: none;\n",
              "      border-radius: 50%;\n",
              "      cursor: pointer;\n",
              "      display: none;\n",
              "      fill: #1967D2;\n",
              "      height: 32px;\n",
              "      padding: 0 0 0 0;\n",
              "      width: 32px;\n",
              "    }\n",
              "\n",
              "    .colab-df-convert:hover {\n",
              "      background-color: #E2EBFA;\n",
              "      box-shadow: 0px 1px 2px rgba(60, 64, 67, 0.3), 0px 1px 3px 1px rgba(60, 64, 67, 0.15);\n",
              "      fill: #174EA6;\n",
              "    }\n",
              "\n",
              "    .colab-df-buttons div {\n",
              "      margin-bottom: 4px;\n",
              "    }\n",
              "\n",
              "    [theme=dark] .colab-df-convert {\n",
              "      background-color: #3B4455;\n",
              "      fill: #D2E3FC;\n",
              "    }\n",
              "\n",
              "    [theme=dark] .colab-df-convert:hover {\n",
              "      background-color: #434B5C;\n",
              "      box-shadow: 0px 1px 3px 1px rgba(0, 0, 0, 0.15);\n",
              "      filter: drop-shadow(0px 1px 2px rgba(0, 0, 0, 0.3));\n",
              "      fill: #FFFFFF;\n",
              "    }\n",
              "  </style>\n",
              "\n",
              "    <script>\n",
              "      const buttonEl =\n",
              "        document.querySelector('#df-ed01b8cb-d76a-4fe2-93e9-0e0ce0503172 button.colab-df-convert');\n",
              "      buttonEl.style.display =\n",
              "        google.colab.kernel.accessAllowed ? 'block' : 'none';\n",
              "\n",
              "      async function convertToInteractive(key) {\n",
              "        const element = document.querySelector('#df-ed01b8cb-d76a-4fe2-93e9-0e0ce0503172');\n",
              "        const dataTable =\n",
              "          await google.colab.kernel.invokeFunction('convertToInteractive',\n",
              "                                                    [key], {});\n",
              "        if (!dataTable) return;\n",
              "\n",
              "        const docLinkHtml = 'Like what you see? Visit the ' +\n",
              "          '<a target=\"_blank\" href=https://colab.research.google.com/notebooks/data_table.ipynb>data table notebook</a>'\n",
              "          + ' to learn more about interactive tables.';\n",
              "        element.innerHTML = '';\n",
              "        dataTable['output_type'] = 'display_data';\n",
              "        await google.colab.output.renderOutput(dataTable, element);\n",
              "        const docLink = document.createElement('div');\n",
              "        docLink.innerHTML = docLinkHtml;\n",
              "        element.appendChild(docLink);\n",
              "      }\n",
              "    </script>\n",
              "  </div>\n",
              "\n",
              "\n",
              "<div id=\"df-523eefb4-58db-4939-a10a-fa8511137d5f\">\n",
              "  <button class=\"colab-df-quickchart\" onclick=\"quickchart('df-523eefb4-58db-4939-a10a-fa8511137d5f')\"\n",
              "            title=\"Suggest charts\"\n",
              "            style=\"display:none;\">\n",
              "\n",
              "<svg xmlns=\"http://www.w3.org/2000/svg\" height=\"24px\"viewBox=\"0 0 24 24\"\n",
              "     width=\"24px\">\n",
              "    <g>\n",
              "        <path d=\"M19 3H5c-1.1 0-2 .9-2 2v14c0 1.1.9 2 2 2h14c1.1 0 2-.9 2-2V5c0-1.1-.9-2-2-2zM9 17H7v-7h2v7zm4 0h-2V7h2v10zm4 0h-2v-4h2v4z\"/>\n",
              "    </g>\n",
              "</svg>\n",
              "  </button>\n",
              "\n",
              "<style>\n",
              "  .colab-df-quickchart {\n",
              "      --bg-color: #E8F0FE;\n",
              "      --fill-color: #1967D2;\n",
              "      --hover-bg-color: #E2EBFA;\n",
              "      --hover-fill-color: #174EA6;\n",
              "      --disabled-fill-color: #AAA;\n",
              "      --disabled-bg-color: #DDD;\n",
              "  }\n",
              "\n",
              "  [theme=dark] .colab-df-quickchart {\n",
              "      --bg-color: #3B4455;\n",
              "      --fill-color: #D2E3FC;\n",
              "      --hover-bg-color: #434B5C;\n",
              "      --hover-fill-color: #FFFFFF;\n",
              "      --disabled-bg-color: #3B4455;\n",
              "      --disabled-fill-color: #666;\n",
              "  }\n",
              "\n",
              "  .colab-df-quickchart {\n",
              "    background-color: var(--bg-color);\n",
              "    border: none;\n",
              "    border-radius: 50%;\n",
              "    cursor: pointer;\n",
              "    display: none;\n",
              "    fill: var(--fill-color);\n",
              "    height: 32px;\n",
              "    padding: 0;\n",
              "    width: 32px;\n",
              "  }\n",
              "\n",
              "  .colab-df-quickchart:hover {\n",
              "    background-color: var(--hover-bg-color);\n",
              "    box-shadow: 0 1px 2px rgba(60, 64, 67, 0.3), 0 1px 3px 1px rgba(60, 64, 67, 0.15);\n",
              "    fill: var(--button-hover-fill-color);\n",
              "  }\n",
              "\n",
              "  .colab-df-quickchart-complete:disabled,\n",
              "  .colab-df-quickchart-complete:disabled:hover {\n",
              "    background-color: var(--disabled-bg-color);\n",
              "    fill: var(--disabled-fill-color);\n",
              "    box-shadow: none;\n",
              "  }\n",
              "\n",
              "  .colab-df-spinner {\n",
              "    border: 2px solid var(--fill-color);\n",
              "    border-color: transparent;\n",
              "    border-bottom-color: var(--fill-color);\n",
              "    animation:\n",
              "      spin 1s steps(1) infinite;\n",
              "  }\n",
              "\n",
              "  @keyframes spin {\n",
              "    0% {\n",
              "      border-color: transparent;\n",
              "      border-bottom-color: var(--fill-color);\n",
              "      border-left-color: var(--fill-color);\n",
              "    }\n",
              "    20% {\n",
              "      border-color: transparent;\n",
              "      border-left-color: var(--fill-color);\n",
              "      border-top-color: var(--fill-color);\n",
              "    }\n",
              "    30% {\n",
              "      border-color: transparent;\n",
              "      border-left-color: var(--fill-color);\n",
              "      border-top-color: var(--fill-color);\n",
              "      border-right-color: var(--fill-color);\n",
              "    }\n",
              "    40% {\n",
              "      border-color: transparent;\n",
              "      border-right-color: var(--fill-color);\n",
              "      border-top-color: var(--fill-color);\n",
              "    }\n",
              "    60% {\n",
              "      border-color: transparent;\n",
              "      border-right-color: var(--fill-color);\n",
              "    }\n",
              "    80% {\n",
              "      border-color: transparent;\n",
              "      border-right-color: var(--fill-color);\n",
              "      border-bottom-color: var(--fill-color);\n",
              "    }\n",
              "    90% {\n",
              "      border-color: transparent;\n",
              "      border-bottom-color: var(--fill-color);\n",
              "    }\n",
              "  }\n",
              "</style>\n",
              "\n",
              "  <script>\n",
              "    async function quickchart(key) {\n",
              "      const quickchartButtonEl =\n",
              "        document.querySelector('#' + key + ' button');\n",
              "      quickchartButtonEl.disabled = true;  // To prevent multiple clicks.\n",
              "      quickchartButtonEl.classList.add('colab-df-spinner');\n",
              "      try {\n",
              "        const charts = await google.colab.kernel.invokeFunction(\n",
              "            'suggestCharts', [key], {});\n",
              "      } catch (error) {\n",
              "        console.error('Error during call to suggestCharts:', error);\n",
              "      }\n",
              "      quickchartButtonEl.classList.remove('colab-df-spinner');\n",
              "      quickchartButtonEl.classList.add('colab-df-quickchart-complete');\n",
              "    }\n",
              "    (() => {\n",
              "      let quickchartButtonEl =\n",
              "        document.querySelector('#df-523eefb4-58db-4939-a10a-fa8511137d5f button');\n",
              "      quickchartButtonEl.style.display =\n",
              "        google.colab.kernel.accessAllowed ? 'block' : 'none';\n",
              "    })();\n",
              "  </script>\n",
              "</div>\n",
              "    </div>\n",
              "  </div>\n"
            ],
            "application/vnd.google.colaboratory.intrinsic+json": {
              "type": "dataframe",
              "variable_name": "df",
              "summary": "{\n  \"name\": \"df\",\n  \"rows\": 5,\n  \"fields\": [\n    {\n      \"column\": \"Sentence\",\n      \"properties\": {\n        \"dtype\": \"string\",\n        \"num_unique_values\": 5,\n        \"samples\": [\n          \"On all sides, wherever the inhabitants dig long vertical holes in the ground,\\nthey succeed in drawing up water, as far as the city extends, and no father.\",\n          \"According to others, the gods live in the buckets that rise,\\nsuspended from a cable, as they appear over the edge of the wells,\\nin the revolving pulleys, in the windlasses of the norias, in the pump handles,\\nin the blades of the windmills that draw the water up from the drillings,\\nin the trestles that support the twisting probes,\\nin the reservoirs perched on stilts over the roofs,\\nin the slender arches of the aqueducts,\\nin all the columns of water, the vertical pipes,\\nthe plungers, the drains,\\nall the way up to the weathercocks that surmount the airy scaffoldings of Isaura,\\na city that moves entirely upward.\",\n          \"Its green border repeats the dark outline of the buried lake;\\nan invisible landscape conditions the visible one;\\neverything that moves in the sunlight is driven by the lapping wave enclosed\\nbeneath the rock\\u2019s calcareous sky.\"\n        ],\n        \"semantic_type\": \"\",\n        \"description\": \"\"\n      }\n    },\n    {\n      \"column\": \"Polarity\",\n      \"properties\": {\n        \"dtype\": \"number\",\n        \"std\": 0.09253067642123627,\n        \"min\": -0.175,\n        \"max\": 0.06818181818181818,\n        \"num_unique_values\": 5,\n        \"samples\": [\n          0.025,\n          0.06818181818181818,\n          -0.175\n        ],\n        \"semantic_type\": \"\",\n        \"description\": \"\"\n      }\n    },\n    {\n      \"column\": \"Subjectivity\",\n      \"properties\": {\n        \"dtype\": \"number\",\n        \"std\": 0.13913173214219998,\n        \"min\": 0.35,\n        \"max\": 0.7,\n        \"num_unique_values\": 5,\n        \"samples\": [\n          0.7,\n          0.5625,\n          0.35\n        ],\n        \"semantic_type\": \"\",\n        \"description\": \"\"\n      }\n    }\n  ]\n}"
            }
          },
          "metadata": {},
          "execution_count": 54
        }
      ]
    },
    {
      "source": [
        "# @title Sentence vs Polarity\n",
        "\n",
        "from matplotlib import pyplot as plt\n",
        "import seaborn as sns\n",
        "figsize = (12, 1.2 * len(df['Sentence'].unique()))\n",
        "plt.figure(figsize=figsize)\n",
        "sns.violinplot(df, x='Polarity', y='Sentence', inner='stick', palette='Dark2')\n",
        "sns.despine(top=True, right=True, bottom=True, left=True)"
      ],
      "cell_type": "code",
      "execution_count": 55,
      "outputs": [
        {
          "output_type": "stream",
          "name": "stderr",
          "text": [
            "<ipython-input-55-205c6c746c15>:7: FutureWarning: \n",
            "\n",
            "Passing `palette` without assigning `hue` is deprecated and will be removed in v0.14.0. Assign the `y` variable to `hue` and set `legend=False` for the same effect.\n",
            "\n",
            "  sns.violinplot(df, x='Polarity', y='Sentence', inner='stick', palette='Dark2')\n"
          ]
        },
        {
          "output_type": "display_data",
          "data": {
            "text/plain": [
              "<Figure size 1200x600 with 1 Axes>"
            ],
            "image/png": "[encoded data removed]"
          },
          "metadata": {}
        }
      ],
      "metadata": {
        "cellView": "form",
        "colab": {
          "base_uri": "https://localhost:8080/",
          "height": 614
        },
        "id": "vm7BPR37Q-Ki",
        "outputId": "d0ec407a-6b2c-488e-f4e2-947f54ca9c3a"
      }
    },
    {
      "cell_type": "markdown",
      "source": [
        "### Custom Sentiment Analysis (Train a Classifier)"
      ],
      "metadata": {
        "id": "yolsiL-raiSZ"
      }
    },
    {
      "cell_type": "code",
      "execution_count": 45,
      "metadata": {
        "ExecuteTime": {
          "end_time": "2020-10-30T12:28:30.425501Z",
          "start_time": "2020-10-30T12:28:30.408508Z"
        },
        "id": "z5Ay5xjHTnVB",
        "outputId": "12423c71-0559-49f6-bcc0-3851d275b072",
        "colab": {
          "base_uri": "https://localhost:8080/"
        }
      },
      "outputs": [
        {
          "output_type": "stream",
          "name": "stdout",
          "text": [
            "The design effectively balances practicality and aesthetic appeal : pos with a probability of 0.6028779358253392\n",
            "This building is beautiful : pos with a probability of 0.7484599589322382\n",
            "The materials used in this construction seem cheap and low-quality : neg with a probability of 0.9172906739278415\n",
            "This structure is not only unattractive but also seems unsafe : neg with a probability of 0.552027857435476\n"
          ]
        }
      ],
      "source": [
        "from textblob.classifiers import NaiveBayesClassifier\n",
        "\n",
        "# training data\n",
        "train=[\n",
        "        ('The innovative design of this building is truly breathtaking','pos'),\n",
        "        (\"This skyscraper's skyline silhouette is stunningly iconic\",'pos'),\n",
        "        ('The ingenious layout maximises both functionality and beauty','pos'),\n",
        "        (\"This historic renovation wonderfully preserves the building's character while adding modern touches\",'pos'),\n",
        "        (\"This public space architecture fosters community and connectivity\",'pos'),\n",
        "        (\"This building's design is utterly unappealing and uninspiring\",'neg'),\n",
        "        ('The lack of natural light in this structure makes it feel gloomy','neg'),\n",
        "        ('These rooms are too cramped and poorly laid out','neg'),\n",
        "        ('The facade of this building is bland and lacks character','neg'),\n",
        "        ('This skyscraper is an eyesore in the city skyline','neg')\n",
        "]\n",
        "\n",
        "# test data\n",
        "test=[\n",
        "        ('The design effectively balances practicality and aesthetic appeal','pos'),\n",
        "        ('This building is beautiful','pos'),\n",
        "        ('The materials used in this construction seem cheap and low-quality','neg'),\n",
        "        ('This structure is not only unattractive but also seems unsafe','neg')\n",
        "]\n",
        "\n",
        "# create and train classifier (Naive Bayes model)\n",
        "cl=NaiveBayesClassifier(train)\n",
        "\n",
        "# classifying test sentence\n",
        "for sentence in test:\n",
        "    prob_dist = cl.prob_classify(sentence[0])\n",
        "    print(f\"{sentence[0]} : {prob_dist.max()} with a probability of {prob_dist.prob(prob_dist.max())}\")\n"
      ]
    },
    {
      "cell_type": "markdown",
      "metadata": {
        "id": "mW0gsEh1TnVB"
      },
      "source": [
        "## Method 2: SnowNLP (Chinese text processing mainly)\n",
        "\n",
        "https://pypi.org/project/snownlp/\n",
        "\n",
        "https://github.com/isnowfy/snownlp\n",
        "\n",
        " SnowNLP is a library written in Python, designed to conveniently process Chinese text content. Inspired by TextBlob, it was developed in response to the fact that most natural language processing libraries are primarily focused on English. As a result, SnowNLP was created to facilitate the handling of Chinese text. Unlike TextBlob, it does not use NLTK; instead, all algorithms are self-implemented. Additionally, SnowNLP comes with some pre-trained dictionaries for immediate use.\n",
        "\n",
        " This output score represents the sentiment of the text, where:\n",
        "\n",
        "*   A score close to 0 indicates a negative sentiment.\n",
        "*   A score close to 1 indicates a positive sentiment.\n"
      ]
    },
    {
      "cell_type": "code",
      "execution_count": 4,
      "metadata": {
        "ExecuteTime": {
          "end_time": "2020-10-29T09:15:48.119323Z",
          "start_time": "2020-10-29T09:15:40.315627Z"
        },
        "id": "a6wUk2R8TnVC",
        "outputId": "730d948e-be55-443b-f4ee-f686210d5aec",
        "colab": {
          "base_uri": "https://localhost:8080/"
        }
      },
      "outputs": [
        {
          "output_type": "stream",
          "name": "stdout",
          "text": [
            "Collecting snownlp\n",
            "  Downloading snownlp-0.12.3.tar.gz (37.6 MB)\n",
            "\u001b[2K     \u001b[90m━━━━━━━━━━━━━━━━━━━━━━━━━━━━━━━━━━━━━━━━\u001b[0m \u001b[32m37.6/37.6 MB\u001b[0m \u001b[31m12.2 MB/s\u001b[0m eta \u001b[36m0:00:00\u001b[0m\n",
            "\u001b[?25h  Preparing metadata (setup.py) ... \u001b[?25l\u001b[?25hdone\n",
            "Building wheels for collected packages: snownlp\n",
            "  Building wheel for snownlp (setup.py) ... \u001b[?25l\u001b[?25hdone\n",
            "  Created wheel for snownlp: filename=snownlp-0.12.3-py3-none-any.whl size=37760944 sha256=fcb9519a140b52c51b13cf74a000d7865fc7a423fb381a622832b23748751e3d\n",
            "  Stored in directory: /root/.cache/pip/wheels/43/f3/70/8990fc249efeb396007766676706f71dd3d1ca3c023ce522ce\n",
            "Successfully built snownlp\n",
            "Installing collected packages: snownlp\n",
            "Successfully installed snownlp-0.12.3\n"
          ]
        }
      ],
      "source": [
        "!pip install snownlp"
      ]
    },
    {
      "cell_type": "code",
      "source": [
        "from snownlp import SnowNLP"
      ],
      "metadata": {
        "id": "ahI8m6KLHUa5"
      },
      "execution_count": 26,
      "outputs": []
    },
    {
      "cell_type": "code",
      "source": [
        "s = SnowNLP('看看这美丽的人群')\n",
        "\n",
        "# Retrieving the sentiment score of the text\n",
        "s.sentiments"
      ],
      "metadata": {
        "colab": {
          "base_uri": "https://localhost:8080/"
        },
        "id": "ZSHXpS3jHWtZ",
        "outputId": "68458181-abb8-4e9b-ac08-d7c55a1d5ece"
      },
      "execution_count": 27,
      "outputs": [
        {
          "output_type": "execute_result",
          "data": {
            "text/plain": [
              "0.9496332125236754"
            ]
          },
          "metadata": {},
          "execution_count": 27
        }
      ]
    },
    {
      "cell_type": "code",
      "source": [
        "s = SnowNLP('看看这人群')\n",
        "\n",
        "# Retrieving the sentiment score of the text\n",
        "s.sentiments\n",
        "\n",
        "#===========================\n",
        "# As shown above, '美丽的' has significant positive influence."
      ],
      "metadata": {
        "colab": {
          "base_uri": "https://localhost:8080/"
        },
        "id": "RpBVawrcKtum",
        "outputId": "059fadc0-55c3-43c3-f379-3e8160a55d69"
      },
      "execution_count": 38,
      "outputs": [
        {
          "output_type": "execute_result",
          "data": {
            "text/plain": [
              "0.6923076923076924"
            ]
          },
          "metadata": {},
          "execution_count": 38
        }
      ]
    },
    {
      "cell_type": "code",
      "source": [
        "s = SnowNLP('看看这群傻子')\n",
        "\n",
        "# Retrieving the sentiment score of the text\n",
        "s.sentiments"
      ],
      "metadata": {
        "colab": {
          "base_uri": "https://localhost:8080/"
        },
        "id": "FvwG7WYDK7kb",
        "outputId": "01a941d9-bb7e-493d-fbcc-1bf4010a1418"
      },
      "execution_count": 41,
      "outputs": [
        {
          "output_type": "execute_result",
          "data": {
            "text/plain": [
              "0.2767393309501337"
            ]
          },
          "metadata": {},
          "execution_count": 41
        }
      ]
    },
    {
      "cell_type": "code",
      "source": [
        "s = SnowNLP('看看这群沙雕')\n",
        "\n",
        "# Retrieving the sentiment score of the text\n",
        "s.sentiments\n",
        "\n",
        "#===========================\n",
        "### Internet slangs can confuse the model significantly."
      ],
      "metadata": {
        "colab": {
          "base_uri": "https://localhost:8080/"
        },
        "id": "z9sdFnoOHdm1",
        "outputId": "6c5fff22-aea5-4367-e34c-ca160081f726"
      },
      "execution_count": 42,
      "outputs": [
        {
          "output_type": "execute_result",
          "data": {
            "text/plain": [
              "0.9385247040519207"
            ]
          },
          "metadata": {},
          "execution_count": 42
        }
      ]
    },
    {
      "cell_type": "markdown",
      "source": [
        "This method doesn't work well with English texts."
      ],
      "metadata": {
        "id": "B-2s1D_-Kf-_"
      }
    },
    {
      "cell_type": "code",
      "execution_count": 34,
      "metadata": {
        "ExecuteTime": {
          "end_time": "2020-10-30T12:29:18.650391Z",
          "start_time": "2020-10-30T12:29:16.249043Z"
        },
        "id": "IO20B4fPTnVC",
        "outputId": "697ca0b8-fce3-489a-b1d9-8bbe8bfa4b9a",
        "colab": {
          "base_uri": "https://localhost:8080/"
        }
      },
      "outputs": [
        {
          "output_type": "execute_result",
          "data": {
            "text/plain": [
              "0.13949471482418563"
            ]
          },
          "metadata": {},
          "execution_count": 34
        }
      ],
      "source": [
        "s = SnowNLP('what a beautiful day')\n",
        "\n",
        "# Retrieving the sentiment score of the text\n",
        "s.sentiments"
      ]
    },
    {
      "cell_type": "code",
      "source": [
        "s = SnowNLP('what the hell')\n",
        "\n",
        "# Retrieving the sentiment score of the text\n",
        "s.sentiments"
      ],
      "metadata": {
        "colab": {
          "base_uri": "https://localhost:8080/"
        },
        "id": "euJI6l4IKpGQ",
        "outputId": "e04877d3-ce1e-4f41-eb6a-5de20649ab70"
      },
      "execution_count": 35,
      "outputs": [
        {
          "output_type": "execute_result",
          "data": {
            "text/plain": [
              "0.5"
            ]
          },
          "metadata": {},
          "execution_count": 35
        }
      ]
    }
  ],
  "metadata": {
    "kernelspec": {
      "display_name": "Python 3",
      "language": "python",
      "name": "python3"
    },
    "language_info": {
      "codemirror_mode": {
        "name": "ipython",
        "version": 3
      },
      "file_extension": ".py",
      "mimetype": "text/x-python",
      "name": "python",
      "nbconvert_exporter": "python",
      "pygments_lexer": "ipython3",
      "version": "3.7.6"
    },
    "latex_envs": {
      "LaTeX_envs_menu_present": true,
      "autoclose": false,
      "autocomplete": true,
      "bibliofile": "biblio.bib",
      "cite_by": "apalike",
      "current_citInitial": 1,
      "eqLabelWithNumbers": true,
      "eqNumInitial": 1,
      "hotkeys": {
        "equation": "Ctrl-E",
        "itemize": "Ctrl-I"
      },
      "labels_anchors": false,
      "latex_user_defs": false,
      "report_style_numbering": false,
      "user_envs_cfg": false
    },
    "toc": {
      "base_numbering": 1,
      "nav_menu": {},
      "number_sections": false,
      "sideBar": true,
      "skip_h1_title": false,
      "title_cell": "Table of Contents",
      "title_sidebar": "Contents",
      "toc_cell": false,
      "toc_position": {},
      "toc_section_display": true,
      "toc_window_display": false
    },
    "colab": {
      "provenance": [],
      "toc_visible": true,
      "include_colab_link": true
    }
  },
  "nbformat": 4,
  "nbformat_minor": 0
}